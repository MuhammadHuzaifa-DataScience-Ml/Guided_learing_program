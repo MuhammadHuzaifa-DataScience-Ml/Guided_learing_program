{
 "cells": [
  {
   "cell_type": "markdown",
   "metadata": {},
   "source": [
    "### Exercise 1:\n",
    "(I)Cabinets and Boxes are objects that are mostly in cubic shape. Make a program that takes \n",
    "inputs like height, width and depth from user and then calculate volume of the cube:\n",
    "volume = height ∗ width ∗ depth\n",
    "After calculating volume of cube, compare it with following ranges and print the relevant label:"
   ]
  },
  {
   "cell_type": "code",
   "execution_count": 7,
   "metadata": {},
   "outputs": [
    {
     "name": "stdout",
     "output_type": "stream",
     "text": [
      "Medium-->36\n"
     ]
    }
   ],
   "source": [
    "width = int(input(\"Enter Width in (cm):\"))\n",
    "height = int(input(\"Enter height in (cm):\"))\n",
    "length = int(input(\"Enter length in (cm):\"))\n",
    "\n",
    "volume = width * height * length\n",
    "\n",
    "if volume >= 1 and volume <= 10:\n",
    "        print(f'Extra Small-->{volume}')\n",
    "elif volume >= 11 and volume <= 25:\n",
    "    print(f'Small-->{volume}')\n",
    "elif volume >= 26 and volume <= 75 :\n",
    "    print(f'Medium-->{volume}')\n",
    "elif volume >= 76 and volume <= 100 :\n",
    "    print(f'large-->{volume}')\n",
    "elif volume >= 101 and volume <= 250 :\n",
    "    print(f'Extra large-->{volume}')\n",
    "else: \n",
    "    print('Extra Extra Large')"
   ]
  },
  {
   "cell_type": "markdown",
   "metadata": {},
   "source": [
    "(II)In a company ,worker efficiency is determined on the basis of the time required for a worker \n",
    "to complete a particular job.If the time taken by the worker is between 2-3 hours then the worker \n",
    "is said to be highly efficient. If the time required by the worker is between 3-4hours,then the worker \n",
    "is ordered to improve speed. If the time taken is between 4-5 hours ,the worker is given training to \n",
    "improve his speed ,and if the time taken by the worker is more than 5 hours ,then the worker haas \n",
    "to leave the company, If the time taken by the worker is input through the keyboard,find the \n",
    "efficiency of the worker."
   ]
  },
  {
   "cell_type": "code",
   "execution_count": null,
   "metadata": {},
   "outputs": [],
   "source": [
    "timeTaken = float(input(\"Enter the time taken by the worker (in hours): \"))\n",
    "\n",
    "if 2 <= timeTaken < 3:\n",
    "     print(\"Worker is Highly Efficient\")\n",
    "elif 3 <= timeTaken < 4:\n",
    "      print(\"should be ordered to improve speed\")\n",
    "elif 4 <= timeTaken < 5:\n",
    "      print(\"has to be given training to improve his speed\")\n",
    "else:\n",
    "    print( \"has to leave the company\")"
   ]
  },
  {
   "cell_type": "markdown",
   "metadata": {},
   "source": [
    "(iii)The program must prompt the user for a username and password. The program should compare \n",
    "the password given by the user to a known password. If the password matches, the program should \n",
    "display “Welcome!” If it doesn’t match, the program should display “I don’t know you.\n",
    "Note: the password should not be case sensitive and it’s value is abc$123 or ABC$123\n"
   ]
  },
  {
   "cell_type": "code",
   "execution_count": null,
   "metadata": {},
   "outputs": [],
   "source": [
    "knownUsername = 'Muhammad Huzaifa'\n",
    "knownPassword = \"huz$123\"\n",
    "username = input(\"Enter your username: \")\n",
    "password = input(\"Enter your password: \")\n",
    "if (password.lower().strip() == knownPassword.lower().strip()) and (username.lower().strip() == knownUsername.lower().strip()):\n",
    "    print(\"Welcome!\")\n",
    "else:\n",
    "    print(\"I don't know you.\")"
   ]
  },
  {
   "cell_type": "markdown",
   "metadata": {},
   "source": [
    "Excercise\n",
    "(i)What Would Python Print?\n",
    ">>> n = 3\n",
    ">>> while n >= 0:\n",
    "... n -= 1\n",
    "... print(n)"
   ]
  },
  {
   "cell_type": "code",
   "execution_count": 8,
   "metadata": {},
   "outputs": [
    {
     "name": "stdout",
     "output_type": "stream",
     "text": [
      "2\n",
      "1\n",
      "0\n",
      "-1\n"
     ]
    }
   ],
   "source": [
    "n = 3\n",
    "while n >= 0:\n",
    "    n -= 1\n",
    "    print(n)"
   ]
  },
  {
   "cell_type": "markdown",
   "metadata": {},
   "source": [
    "(ii): What Would Python Print?\n",
    ">>>  typing Ctrl-C will stop infinite loops\n",
    ">>> n = 4\n",
    ">>> while n > 0:\n",
    "... n += 1\n",
    "... print(n)"
   ]
  },
  {
   "cell_type": "code",
   "execution_count": 9,
   "metadata": {},
   "outputs": [
    {
     "name": "stdout",
     "output_type": "stream",
     "text": [
      "5\n"
     ]
    }
   ],
   "source": [
    "n = 4\n",
    "while n > 0:\n",
    "    n += 1\n",
    "    print(n)\n",
    "    break"
   ]
  },
  {
   "cell_type": "markdown",
   "metadata": {},
   "source": [
    "(ii)Try the scenrio below:\n",
    "Make a program that lists the countries in the set\n",
    "clist = \n",
    "['Canada','USA','Mexico','Australia']\n",
    "1. Create a loop that counts from 0 to 100\n",
    "2. Make a multiplication table using a loop\n",
    "3. Output the numbers 1 to 10 backwards using a loop\n",
    "What is the password? ABC$123\n",
    "Welcome!\n",
    "4. Create a loop that counts all even numbers to 10\n",
    "5. Create a loop that sums the numbers from 100 to 200"
   ]
  },
  {
   "cell_type": "code",
   "execution_count": 25,
   "metadata": {},
   "outputs": [
    {
     "name": "stdout",
     "output_type": "stream",
     "text": [
      "1. Canada\n",
      "2. USA\n",
      "3. Mexico\n",
      "4. Australia\n"
     ]
    }
   ],
   "source": [
    "clist =['Canada','USA','Mexico','Australia']\n",
    "for i in range(len(clist)):\n",
    "    print(f'{i + 1}. {clist[i]}')"
   ]
  },
  {
   "cell_type": "code",
   "execution_count": null,
   "metadata": {},
   "outputs": [],
   "source": [
    "for i in range(101):\n",
    "    print(i)"
   ]
  },
  {
   "cell_type": "code",
   "execution_count": 29,
   "metadata": {},
   "outputs": [
    {
     "name": "stdout",
     "output_type": "stream",
     "text": [
      "5 x 1 = 5\n",
      "5 x 2 = 10\n",
      "5 x 3 = 15\n",
      "5 x 4 = 20\n",
      "5 x 5 = 25\n",
      "5 x 6 = 30\n",
      "5 x 7 = 35\n",
      "5 x 8 = 40\n",
      "5 x 9 = 45\n",
      "5 x 10 = 50\n"
     ]
    }
   ],
   "source": [
    "m = int(input('Enter Number for Table: '))\n",
    "n = int(input('Enter Number of Iterations: '))\n",
    "\n",
    "for i in range(1, n + 1):\n",
    "    print(f'{m} x {i} = {m * i}')"
   ]
  },
  {
   "cell_type": "code",
   "execution_count": 34,
   "metadata": {},
   "outputs": [
    {
     "name": "stdout",
     "output_type": "stream",
     "text": [
      "10,9,8,7,6,5,4,3,2,1,"
     ]
    }
   ],
   "source": [
    "for i in reversed(range(1,11)):\n",
    "    print(i, end = ',')"
   ]
  },
  {
   "cell_type": "code",
   "execution_count": null,
   "metadata": {},
   "outputs": [],
   "source": [
    "count = 0\n",
    "for i in range(11):\n",
    "    if i % 2 == 0:\n",
    "        count += 1\n",
    "print(f'Number of even numbers in the given range are {count }')"
   ]
  },
  {
   "cell_type": "code",
   "execution_count": null,
   "metadata": {},
   "outputs": [],
   "source": [
    "sum = 0\n",
    "for i in range(100, 201):\n",
    "    sum += i\n",
    "print(sum)"
   ]
  },
  {
   "cell_type": "code",
   "execution_count": null,
   "metadata": {},
   "outputs": [],
   "source": []
  }
 ],
 "metadata": {
  "kernelspec": {
   "display_name": "Python 3",
   "language": "python",
   "name": "python3"
  },
  "language_info": {
   "codemirror_mode": {
    "name": "ipython",
    "version": 3
   },
   "file_extension": ".py",
   "mimetype": "text/x-python",
   "name": "python",
   "nbconvert_exporter": "python",
   "pygments_lexer": "ipython3",
   "version": "3.11.1"
  }
 },
 "nbformat": 4,
 "nbformat_minor": 2
}
