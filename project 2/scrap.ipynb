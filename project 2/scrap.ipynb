{
 "cells": [
  {
   "cell_type": "code",
   "execution_count": 1,
   "metadata": {},
   "outputs": [
    {
     "name": "stdout",
     "output_type": "stream",
     "text": [
      "Before Encoding the Data:\n",
      "\n",
      "  animal\n",
      "0    cat\n",
      "1    dog\n",
      "2   bird\n",
      "3    cat\n",
      "\n",
      "After Encoding the Data:\n",
      "\n",
      "  animal\n",
      "0      0\n",
      "1      1\n",
      "2     10\n",
      "3      0\n",
      "\n"
     ]
    },
    {
     "name": "stderr",
     "output_type": "stream",
     "text": [
      "C:\\Users\\FATTANI COMPUTERS\\AppData\\Local\\Temp\\ipykernel_14480\\4189320170.py:1: DeprecationWarning: \n",
      "Pyarrow will become a required dependency of pandas in the next major release of pandas (pandas 3.0),\n",
      "(to allow more performant data types, such as the Arrow string type, and better interoperability with other libraries)\n",
      "but was not found to be installed on your system.\n",
      "If this would cause problems for you,\n",
      "please provide us feedback at https://github.com/pandas-dev/pandas/issues/54466\n",
      "        \n",
      "  import pandas as pd\n"
     ]
    }
   ],
   "source": [
    "import pandas as pd\n",
    "\n",
    "# create a sample dataframe with a categorical variable\n",
    "df = pd.DataFrame({'animal': ['cat', 'dog', 'bird', 'cat']})\n",
    "print(f\"Before Encoding the Data:\\n\\n{df}\\n\")\n",
    "\n",
    "# perform binary encoding on the 'animal' column\n",
    "animal_map = {'cat': 0, 'dog': 1, 'bird': 2}\n",
    "df['animal'] = df['animal'].map(animal_map)\n",
    "df['animal'] = df['animal'].apply(lambda x: format(x, 'b'))\n",
    "\n",
    "# print the resulting dataframe\n",
    "print(f\"After Encoding the Data:\\n\\n{df}\\n\")"
   ]
  },
  {
   "cell_type": "code",
   "execution_count": 2,
   "metadata": {},
   "outputs": [
    {
     "name": "stdout",
     "output_type": "stream",
     "text": [
      "Before Encoding the Data:\n",
      "\n",
      "    fruit\n",
      "0   apple\n",
      "1  banana\n",
      "2   apple\n",
      "3  banana\n",
      "\n",
      "After Encoding the Data:\n",
      "\n",
      "   fruit\n",
      "0      2\n",
      "1      2\n",
      "2      2\n",
      "3      2\n",
      "\n"
     ]
    }
   ],
   "source": [
    "# Count Encoding:\n",
    "# create a sample dataframe with a categorical variable\n",
    "df = pd.DataFrame({'fruit': ['apple', 'banana', 'apple', 'banana']})\n",
    "print(f\"Before Encoding the Data:\\n\\n{df}\\n\")\n",
    "\n",
    "# perform count encoding on the 'fruit' column\n",
    "counts = df['fruit'].value_counts()\n",
    "df['fruit'] = df['fruit'].map(counts)\n",
    "\n",
    "# print the resulting dataframe\n",
    "print(f\"After Encoding the Data:\\n\\n{df}\\n\")"
   ]
  },
  {
   "cell_type": "code",
   "execution_count": 1,
   "metadata": {},
   "outputs": [
    {
     "name": "stdout",
     "output_type": "stream",
     "text": [
      "Before Encoding the Data:\n",
      "\n",
      "  animal\n",
      "0    cat\n",
      "1    dog\n",
      "2   bird\n",
      "3    cat\n",
      "\n",
      "After Encoding the Data:\n",
      "\n",
      "  animal\n",
      "0      0\n",
      "1      1\n",
      "2     10\n",
      "3      0\n",
      "\n"
     ]
    },
    {
     "name": "stderr",
     "output_type": "stream",
     "text": [
      "C:\\Users\\FATTANI COMPUTERS\\AppData\\Local\\Temp\\ipykernel_2564\\2217805513.py:1: DeprecationWarning: \n",
      "Pyarrow will become a required dependency of pandas in the next major release of pandas (pandas 3.0),\n",
      "(to allow more performant data types, such as the Arrow string type, and better interoperability with other libraries)\n",
      "but was not found to be installed on your system.\n",
      "If this would cause problems for you,\n",
      "please provide us feedback at https://github.com/pandas-dev/pandas/issues/54466\n",
      "        \n",
      "  import pandas as pd\n"
     ]
    }
   ],
   "source": [
    "\n",
    "import pandas as pd\n",
    "\n",
    "# create a sample dataframe with a categorical variable\n",
    "df = pd.DataFrame({'animal': ['cat', 'dog', 'bird', 'cat']})\n",
    "print(f\"Before Encoding the Data:\\n\\n{df}\\n\")\n",
    "\n",
    "# perform binary encoding on the 'animal' column\n",
    "animal_map = {'cat': 0, 'dog': 1, 'bird': 2}\n",
    "df['animal'] = df['animal'].map(animal_map)\n",
    "df['animal'] = df['animal'].apply(lambda x: format(x, 'b'))\n",
    "\n",
    "# print the resulting dataframe\n",
    "print(f\"After Encoding the Data:\\n\\n{df}\\n\")"
   ]
  },
  {
   "cell_type": "code",
   "execution_count": 2,
   "metadata": {},
   "outputs": [
    {
     "name": "stdout",
     "output_type": "stream",
     "text": [
      "Before Encoding the Data:\n",
      "\n",
      "    fruit\n",
      "0   apple\n",
      "1  banana\n",
      "2   apple\n",
      "3  banana\n",
      "\n",
      "After Encoding the Data:\n",
      "\n",
      "   fruit\n",
      "0      2\n",
      "1      2\n",
      "2      2\n",
      "3      2\n",
      "\n"
     ]
    }
   ],
   "source": [
    "# Count Encoding:\n",
    "# create a sample dataframe with a categorical variable\n",
    "df = pd.DataFrame({'fruit': ['apple', 'banana', 'apple', 'banana']})\n",
    "print(f\"Before Encoding the Data:\\n\\n{df}\\n\")\n",
    "\n",
    "# perform count encoding on the 'fruit' column\n",
    "counts = df['fruit'].value_counts()\n",
    "df['fruit'] = df['fruit'].map(counts)\n",
    "\n",
    "# print the resulting dataframe\n",
    "print(f\"After Encoding the Data:\\n\\n{df}\\n\")"
   ]
  },
  {
   "cell_type": "code",
   "execution_count": 3,
   "metadata": {},
   "outputs": [
    {
     "name": "stdout",
     "output_type": "stream",
     "text": [
      "Before Encoding the Data:\n",
      "\n",
      "   color  target\n",
      "0    red       0\n",
      "1  green       1\n",
      "2   blue       0\n",
      "3    red       1\n",
      "4  green       0\n",
      "\n",
      "After Encoding the Data:\n",
      "\n",
      "   color  target  color_label\n",
      "0    red       0          0.5\n",
      "1  green       1          0.5\n",
      "2   blue       0          0.0\n",
      "3    red       1          0.5\n",
      "4  green       0          0.5\n"
     ]
    }
   ],
   "source": [
    "# Create a sample dataframe with categorical data and target\n",
    "df = pd.DataFrame({'color': ['red', 'green', 'blue', 'red', 'green'],\n",
    "                   'target': [0, 1, 0, 1, 0]})\n",
    "print(f\"Before Encoding the Data:\\n\\n{df}\\n\")\n",
    "\n",
    "# Calculate the mean target value for each category\n",
    "target_mean = df.groupby('color')['target'].mean()\n",
    "\n",
    "# Replace the categorical data with the mean target value\n",
    "df['color_label'] = df['color'].map(target_mean)\n",
    "\n",
    "\n",
    "print(f\"After Encoding the Data:\\n\\n{df}\")"
   ]
  },
  {
   "cell_type": "code",
   "execution_count": 4,
   "metadata": {},
   "outputs": [
    {
     "name": "stdout",
     "output_type": "stream",
     "text": [
      "2\n",
      "1\n",
      "0\n",
      "-1\n"
     ]
    }
   ],
   "source": [
    "n = 3\n",
    "while n >= 0:\n",
    " n -= 1\n",
    " print(n)"
   ]
  }
 ],
 "metadata": {
  "kernelspec": {
   "display_name": ".venv",
   "language": "python",
   "name": "python3"
  },
  "language_info": {
   "codemirror_mode": {
    "name": "ipython",
    "version": 3
   },
   "file_extension": ".py",
   "mimetype": "text/x-python",
   "name": "python",
   "nbconvert_exporter": "python",
   "pygments_lexer": "ipython3",
   "version": "3.11.1"
  }
 },
 "nbformat": 4,
 "nbformat_minor": 2
}
